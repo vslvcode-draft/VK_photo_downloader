{
 "cells": [
  {
   "cell_type": "markdown",
   "metadata": {
    "ExecuteTime": {
     "end_time": "2019-10-23T09:40:01.145387Z",
     "start_time": "2019-10-23T09:40:01.141360Z"
    }
   },
   "source": [
    "# Массовое скачивание фотографий из групп ВКонтакте с использованием API"
   ]
  },
  {
   "cell_type": "code",
   "execution_count": 1,
   "metadata": {
    "ExecuteTime": {
     "end_time": "2019-10-25T08:46:49.272602Z",
     "start_time": "2019-10-25T08:46:49.168337Z"
    }
   },
   "outputs": [],
   "source": [
    "import os\n",
    "from re import split\n",
    "from time import sleep\n",
    "from datetime import datetime\n",
    "import vk\n",
    "import requests\n",
    "\n",
    "# secret.py - файл, содержащий переменную token, где записан ключ API\n",
    "from secret import token"
   ]
  },
  {
   "cell_type": "markdown",
   "metadata": {},
   "source": [
    "## Настройки программы\n",
    "- public_link - полная ссылка на группу или паблик\n",
    "- album_id - id альбома ('wall' - стена сообщества)\n",
    "- rev - порядок загрузки (0 - хронологический, 1 - антихронологический)\n",
    "- start_offset - с какой по счету фотографии начать загрузку\n",
    "- phs_num - сколько фотографий нужно загрузить\n",
    "- download_dir_name - путь к директории загрузки (если пустая строка, то файлы сохранятся в папке с кратким названием сообщества)"
   ]
  },
  {
   "cell_type": "code",
   "execution_count": 2,
   "metadata": {
    "ExecuteTime": {
     "end_time": "2019-10-25T08:46:49.280307Z",
     "start_time": "2019-10-25T08:46:49.272602Z"
    }
   },
   "outputs": [],
   "source": [
    "public_link = 'https://vk.com/ru2ch'\n",
    "album_id = 'wall'\n",
    "rev = 1\n",
    "start_offset = 0\n",
    "phs_num = 50\n",
    "download_dir_name = ''"
   ]
  },
  {
   "cell_type": "markdown",
   "metadata": {},
   "source": [
    "### Авторизируемся в ВК"
   ]
  },
  {
   "cell_type": "code",
   "execution_count": 3,
   "metadata": {
    "ExecuteTime": {
     "end_time": "2019-10-25T08:46:49.288306Z",
     "start_time": "2019-10-25T08:46:49.280307Z"
    }
   },
   "outputs": [],
   "source": [
    "session = vk.Session(access_token=token)\n",
    "vk_api = vk.API(session)"
   ]
  },
  {
   "cell_type": "markdown",
   "metadata": {},
   "source": [
    "### Получаем id сообщества"
   ]
  },
  {
   "cell_type": "code",
   "execution_count": 4,
   "metadata": {
    "ExecuteTime": {
     "end_time": "2019-10-25T08:46:49.538389Z",
     "start_time": "2019-10-25T08:46:49.288306Z"
    }
   },
   "outputs": [
    {
     "data": {
      "text/plain": [
       "[{'id': 22751485,\n",
       "  'name': 'Двач',\n",
       "  'screen_name': 'ru2ch',\n",
       "  'is_closed': 0,\n",
       "  'type': 'page',\n",
       "  'photo_50': 'https://sun4-12.userapi.com/c850536/v850536351/88c3/9pNLLDJ05ns.jpg?ava=1',\n",
       "  'photo_100': 'https://sun4-16.userapi.com/c850536/v850536351/88c2/Fvb6jZI55bU.jpg?ava=1',\n",
       "  'photo_200': 'https://sun4-11.userapi.com/c850536/v850536351/88c1/QJvU4toWrRg.jpg?ava=1'}]"
      ]
     },
     "execution_count": 4,
     "metadata": {},
     "output_type": "execute_result"
    }
   ],
   "source": [
    "public_name = split(r'/', public_link)[-1]\n",
    "if download_dir_name == '':\n",
    "    download_dir_name = public_name\n",
    "public_data = vk_api.groups.getById(group_id=public_name, v=5.102)\n",
    "public_id = public_data[0]['id']\n",
    "public_data"
   ]
  },
  {
   "cell_type": "markdown",
   "metadata": {},
   "source": [
    "### При помощи API получаем список URL изображений и записываем в файл\n",
    "API не разрешает получать ссылки более чем на тысячу фотографий за один раз, поэтому программа сделает несколько запросов."
   ]
  },
  {
   "cell_type": "code",
   "execution_count": 5,
   "metadata": {
    "ExecuteTime": {
     "end_time": "2019-10-25T08:46:49.658411Z",
     "start_time": "2019-10-25T08:46:49.538389Z"
    }
   },
   "outputs": [],
   "source": [
    "photo_links = []\n",
    "offset = start_offset\n",
    "now = datetime.now().strftime('%d-%m-%Y-%H-%M')\n",
    "\n",
    "remain_num = phs_num\n",
    "for i in range(int(phs_num / 1000) + 1):\n",
    "    if remain_num >= 1000:\n",
    "        download_num = 1000\n",
    "    else:\n",
    "        download_num = remain_num\n",
    "    remain_num -= download_num\n",
    "    wall_phs = vk_api.photos.get(owner_id=-public_id, album_id=album_id, v=5.102, count=download_num, offset=offset, rev=rev)\n",
    "    for photo in wall_phs['items']:\n",
    "        photo_links.append(photo['sizes'][-1]['url'])\n",
    "    offset += download_num\n",
    "    \n",
    "with open(f'dump_{public_id}_{album_id}_{start_offset}_{phs_num}_{now}.txt', 'w') as file:\n",
    "    file.writelines('%s\\n' % link for link in photo_links)"
   ]
  },
  {
   "cell_type": "markdown",
   "metadata": {},
   "source": [
    "### Загружаем фотографии\n",
    "За счёт хранения ссылок в файле можно будет возобновлять загрузку после прерывания - ранее скачанные файлы в данную директорию загружаться не будут. Для перезапуска процесса скачивания после повторного открытия Jupyter-ноутбука нужно **указать вручную путь к файлу с URL**."
   ]
  },
  {
   "cell_type": "code",
   "execution_count": 6,
   "metadata": {
    "ExecuteTime": {
     "end_time": "2019-10-25T08:46:49.675876Z",
     "start_time": "2019-10-25T08:46:49.658411Z"
    }
   },
   "outputs": [],
   "source": [
    "url_filename = f'dump_{public_id}_{album_id}_{start_offset}_{phs_num}_{now}.txt'\n",
    "with open(url_filename, 'r') as file:\n",
    "    photo_links = file.read().splitlines()\n",
    "\n",
    "if not os.path.exists(download_dir_name):\n",
    "    os.makedirs(download_dir_name)\n",
    "\n",
    "ld = os.listdir(download_dir_name)\n",
    "for link in photo_links:\n",
    "    ce = True\n",
    "    filename = split('/', link)[-1]\n",
    "    if filename not in ld:\n",
    "        while ce:\n",
    "            try:\n",
    "                img_data = requests.get(link).content\n",
    "                ce = False\n",
    "            except requests.exceptions.ConnectionError:\n",
    "                sleep(5)\n",
    "        with open(os.path.join(download_dir_name, filename), 'wb') as handler:\n",
    "            handler.write(img_data)"
   ]
  },
  {
   "cell_type": "markdown",
   "metadata": {},
   "source": [
    "### Проверим результат"
   ]
  },
  {
   "cell_type": "code",
   "execution_count": 7,
   "metadata": {
    "ExecuteTime": {
     "end_time": "2019-10-25T08:46:49.696080Z",
     "start_time": "2019-10-25T08:46:49.679031Z"
    }
   },
   "outputs": [
    {
     "name": "stdout",
     "output_type": "stream",
     "text": [
      "В директории \"ru2ch\" 50 файлов\n"
     ]
    }
   ],
   "source": [
    "print(f'В директории \"{download_dir_name}\" {len(os.listdir(download_dir_name))} файлов')"
   ]
  },
  {
   "cell_type": "code",
   "execution_count": null,
   "metadata": {},
   "outputs": [],
   "source": []
  }
 ],
 "metadata": {
  "kernelspec": {
   "display_name": "vkphoto",
   "language": "python",
   "name": "vkphoto"
  },
  "language_info": {
   "codemirror_mode": {
    "name": "ipython",
    "version": 3
   },
   "file_extension": ".py",
   "mimetype": "text/x-python",
   "name": "python",
   "nbconvert_exporter": "python",
   "pygments_lexer": "ipython3",
   "version": "3.7.4"
  },
  "varInspector": {
   "cols": {
    "lenName": 16,
    "lenType": 16,
    "lenVar": 40
   },
   "kernels_config": {
    "python": {
     "delete_cmd_postfix": "",
     "delete_cmd_prefix": "del ",
     "library": "var_list.py",
     "varRefreshCmd": "print(var_dic_list())"
    },
    "r": {
     "delete_cmd_postfix": ") ",
     "delete_cmd_prefix": "rm(",
     "library": "var_list.r",
     "varRefreshCmd": "cat(var_dic_list()) "
    }
   },
   "types_to_exclude": [
    "module",
    "function",
    "builtin_function_or_method",
    "instance",
    "_Feature"
   ],
   "window_display": false
  }
 },
 "nbformat": 4,
 "nbformat_minor": 2
}
